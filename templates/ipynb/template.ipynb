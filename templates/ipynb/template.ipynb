{
 "cells": [
  {
   "cell_type": "markdown",
   "metadata": {},
   "source": [
    "**Note**: the default shortcut to preview this file in VS Code is `Ctrl+Shift+K`; you may need to retrigger this if the file has changed.\n",
    "\n",
    "# Git information"
   ]
  },
  {
   "cell_type": "code",
   "execution_count": 1,
   "metadata": {
    "execution": {
     "iopub.execute_input": "2025-08-10T04:13:21.125288Z",
     "iopub.status.busy": "2025-08-10T04:13:21.125212Z",
     "iopub.status.idle": "2025-08-10T04:13:21.151039Z",
     "shell.execute_reply": "2025-08-10T04:13:21.150875Z"
    }
   },
   "outputs": [
    {
     "name": "stdout",
     "output_type": "stream",
     "text": [
      "Git commit hash: 6747b03dc2b6* (main)\n",
      "Git commit Time: 2025-08-10 04:11:10 +0100\n",
      "Notebook render Time: 2025-08-10 05:34:04 +0100\n"
     ]
    },
    {
     "data": {
      "text/markdown": [
       "<https://github.com/yinchi/dt-demo-gcp/commit/6747b03dc2b6>"
      ],
      "text/plain": [
       "<IPython.core.display.Markdown object>"
      ]
     },
     "metadata": {},
     "output_type": "display_data"
    }
   ],
   "source": [
    "from git_stamp import git_stamp\n",
    "\n",
    "git_stamp()"
   ]
  },
  {
   "cell_type": "code",
   "execution_count": 2,
   "metadata": {
    "execution": {
     "iopub.execute_input": "2025-08-10T04:13:21.169388Z",
     "iopub.status.busy": "2025-08-10T04:13:21.169301Z",
     "iopub.status.idle": "2025-08-10T04:13:21.278694Z",
     "shell.execute_reply": "2025-08-10T04:13:21.278450Z"
    }
   },
   "outputs": [
    {
     "name": "stdout",
     "output_type": "stream",
     "text": [
      "## \u001b[32mmain\u001b[m...\u001b[31morigin/main\u001b[m [ahead \u001b[32m5\u001b[m]\n",
      " \u001b[31mM\u001b[m ../../.vscode/extensions.json\n",
      "\u001b[32mM\u001b[m  ../../init.sh\n",
      " \u001b[31mM\u001b[m ../../scripts.sh\n",
      " \u001b[31mM\u001b[m ../../scripts/install.sh\n",
      "\u001b[32mA\u001b[m\u001b[31mD\u001b[m ../quarto/.gitignore\n",
      "\u001b[32mA\u001b[m\u001b[31mD\u001b[m ../quarto/_quarto.yml\n",
      "\u001b[32mA\u001b[m\u001b[31mD\u001b[m ../quarto/git_stamp.py\n",
      "\u001b[32mA\u001b[m\u001b[31mD\u001b[m ../quarto/template.qmd\n",
      "\u001b[31m??\u001b[m ../../dev-docs/\n",
      "\u001b[31m??\u001b[m ./\n",
      "\u001b[31m??\u001b[m ../mkdocs/\n"
     ]
    }
   ],
   "source": [
    "! git status -bs --ahead-behind"
   ]
  }
 ],
 "metadata": {
  "kernelspec": {
   "display_name": "Python 3",
   "language": "python",
   "name": "python3"
  },
  "language_info": {
   "codemirror_mode": {
    "name": "ipython",
    "version": 3
   },
   "file_extension": ".py",
   "mimetype": "text/x-python",
   "name": "python",
   "nbconvert_exporter": "python",
   "pygments_lexer": "ipython3",
   "version": "3.12.3"
  }
 },
 "nbformat": 4,
 "nbformat_minor": 4
}
